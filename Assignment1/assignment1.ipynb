{
 "cells": [
  {
   "cell_type": "markdown",
   "id": "3e64d157",
   "metadata": {},
   "source": [
    "## Part 1\n",
    "\n",
    "Write a Python program that calculates and displays a person’s body mass index (BMI).\n",
    " The BMI is often used to determine whether a person is overweight or underweight for their height.\n",
    "  A person’s BMI is calculated using the following formula:\n",
    "\n",
    "```BMI = (weight * 703) / (height)2```\n",
    "\n",
    "where weight is measured in pounds and height is measured in inches. The program should ask the user to enter their weight and height, then display the user’s BMI. The program should also display a message indicating whether the person has optimal weight, is underweight, or is overweight. A person’s weight is considered to be optimal if his or her BMI is between 18.5 and 25. If the BMI is less than 18.5, the person is considered to be underweight. If the BMI value is greater than 25, the person is considered to be overweight.\n",
    "#"
   ]
  },
  {
   "cell_type": "code",
   "execution_count": null,
   "id": "d8e09202",
   "metadata": {},
   "outputs": [],
   "source": [
    "\n",
    "# Calculate BMI\n",
    "def calculateBMI(userWeight, userHeight):\n",
    "\n",
    "    BMI = (userWeight * 703) / (userHeight ** 2)\n",
    "\n",
    "    print(\"Your BMI is: \" + str(round(BMI, 2)))\n",
    "\n",
    "    if BMI < 18.5:\n",
    "        print(\"You are underweight.\")\n",
    "    elif 18.5 <= BMI < 24.9:\n",
    "        print(\"You are normal weight.\")\n",
    "    else:\n",
    "        print(\"You are overweight.\")\n",
    "\n",
    "# Get user weight and height\n",
    "userWeight = float(input(\"Enter your weight in lbs: \"))\n",
    "userHeight = float(input(\"Enter your height in inches: \"))\n",
    "\n",
    "print(\"Your weight is: \" + str(userWeight) + \" lbs\")\n",
    "print(\"Your height is: \" + str(userHeight) + \" inches\")\n",
    "\n",
    "calculateBMI(userWeight, userHeight)\n",
    "\n",
    "\n",
    "    "
   ]
  },
  {
   "cell_type": "markdown",
   "id": "d65166b3",
   "metadata": {},
   "source": [
    "## Part 2\n",
    "\n",
    "Write a program that uses a loop to compute and print the sum of all even numbers between 2 and 100 (inclusive)."
   ]
  },
  {
   "cell_type": "code",
   "execution_count": null,
   "id": "edd6e6b2",
   "metadata": {},
   "outputs": [],
   "source": [
    "def sumEvenNumbers():\n",
    "    sum = 0\n",
    "    # for all even numbers from 1 to 100\n",
    "    for i in range (2, 101, 2):\n",
    "        sum += i\n",
    "        print(f\"sum is: {sum}\")\n",
    "    print(\"The sum of even numbers from 1 to 100 is: \" + str(sum))\n",
    "    \n",
    "sumEvenNumbers()"
   ]
  },
  {
   "cell_type": "markdown",
   "id": "f3d6e940",
   "metadata": {},
   "source": [
    "## Part 3\n",
    "\n",
    "Write a program that uses a loop to compute and print the sum of all odd numbers between a and b (inclusive), where a and b are entered by the user."
   ]
  },
  {
   "cell_type": "code",
   "execution_count": null,
   "id": "f75fb443",
   "metadata": {},
   "outputs": [],
   "source": [
    "def sumOddNumbers():\n",
    "    a = int(input(\"Enter a number: \"))\n",
    "    b = int(input(\"Enter a number: \"))\n",
    "    sum = 0\n",
    "\n",
    "    # check which number is smaller\n",
    "    if a < b:\n",
    "        for i in range (a, b + 1):\n",
    "            if i % 2 != 0:\n",
    "                sum += i\n",
    "                print(f\"sum is: {sum}\")\n",
    "        print(\"The sum of odd numbers from \" + str(a) + \" to \" + str(b) + \" is: \" + str(sum))\n",
    "\n",
    "    else:\n",
    "        for i in range (b, a + 1):\n",
    "            if i % 2 != 0:\n",
    "                sum += i\n",
    "                print(f\"sum is: {sum}\")\n",
    "        print(\"The sum of odd numbers from \" + str(b) + \" to \" + str(a) + \" is: \" + str(sum))\n",
    "        \n",
    "sumOddNumbers()"
   ]
  },
  {
   "cell_type": "markdown",
   "id": "04776c5d",
   "metadata": {},
   "source": [
    "## Part 4\n",
    "\n",
    "Your company has shares of stock it would like to sell when their value exceeds a certain target price. Write a program that reads the target price and then reads the current stock price until it is at least the target price. Your program should read a sequence of floating-point values from standard input. Upon reaching or exceeding the target price, your program should output a message that says \"Shares can be sold now\"."
   ]
  },
  {
   "cell_type": "code",
   "execution_count": null,
   "id": "5bba3b02",
   "metadata": {},
   "outputs": [],
   "source": [
    "def sellStock():\n",
    "    targetPrice = float(input(\"Enter target price: \"))\n",
    "    currentPrice = float(input(\"Enter current price: \"))\n",
    "\n",
    "    if currentPrice >= targetPrice:\n",
    "        print(\"Shares can be sold now.\")\n",
    "    else:\n",
    "        print(\"Shares cannot be sold now.\")\n",
    "\n",
    "sellStock()\n",
    "\n",
    "\n",
    "    "
   ]
  },
  {
   "cell_type": "markdown",
   "id": "be1e4137",
   "metadata": {},
   "source": [
    "## Part 5\n",
    "\n",
    "At one college, the tuition for a full-time student is $8,000 per semester. It has been announced that the tuition will increase by 3 percent each year for the next 5 years. Write a program with a loop that displays the projected semester tuition amount for each of the next 5 years."
   ]
  },
  {
   "cell_type": "code",
   "execution_count": null,
   "id": "96999e28",
   "metadata": {},
   "outputs": [],
   "source": [
    "def projectedTuition():\n",
    "    tuition = 8000\n",
    "    print(f\"Initial tuition: ${tuition:.2f}\")\n",
    "    for i in range(5):\n",
    "        tuition += (.03 * tuition)\n",
    "        print(f\"Year {i + 1} projected tuition per semeseter: ${tuition:.2f}\")\n",
    "\n",
    "projectedTuition()"
   ]
  }
 ],
 "metadata": {
  "kernelspec": {
   "display_name": "base",
   "language": "python",
   "name": "python3"
  },
  "language_info": {
   "codemirror_mode": {
    "name": "ipython",
    "version": 3
   },
   "file_extension": ".py",
   "mimetype": "text/x-python",
   "name": "python",
   "nbconvert_exporter": "python",
   "pygments_lexer": "ipython3",
   "version": "3.12.4"
  }
 },
 "nbformat": 4,
 "nbformat_minor": 5
}
