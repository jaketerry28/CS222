{
 "cells": [
  {
   "cell_type": "markdown",
   "id": "3e64d157",
   "metadata": {},
   "source": [
    "## Part 1\n",
    "\n",
    "Write a Python program that calculates and displays a person’s body mass index (BMI).\n",
    " The BMI is often used to determine whether a person is overweight or underweight for their height.\n",
    "  A person’s BMI is calculated using the following formula:\n",
    "\n",
    "```BMI = (weight * 703) / (height)2```\n",
    "\n",
    "where weight is measured in pounds and height is measured in inches. The program should ask the user to enter their weight and height, then display the user’s BMI. The program should also display a message indicating whether the person has optimal weight, is underweight, or is overweight. A person’s weight is considered to be optimal if his or her BMI is between 18.5 and 25. If the BMI is less than 18.5, the person is considered to be underweight. If the BMI value is greater than 25, the person is considered to be overweight.\n",
    "#"
   ]
  },
  {
   "cell_type": "code",
   "execution_count": 11,
   "id": "d8e09202",
   "metadata": {},
   "outputs": [
    {
     "ename": "ValueError",
     "evalue": "could not convert string to float: ''",
     "output_type": "error",
     "traceback": [
      "\u001b[1;31m---------------------------------------------------------------------------\u001b[0m",
      "\u001b[1;31mValueError\u001b[0m                                Traceback (most recent call last)",
      "Cell \u001b[1;32mIn[11], line 16\u001b[0m\n\u001b[0;32m     13\u001b[0m         \u001b[38;5;28mprint\u001b[39m(\u001b[38;5;124m\"\u001b[39m\u001b[38;5;124mYou are overweight.\u001b[39m\u001b[38;5;124m\"\u001b[39m)\n\u001b[0;32m     15\u001b[0m \u001b[38;5;66;03m# Get user weight and height\u001b[39;00m\n\u001b[1;32m---> 16\u001b[0m userWeight \u001b[38;5;241m=\u001b[39m \u001b[38;5;28;43mfloat\u001b[39;49m\u001b[43m(\u001b[49m\u001b[38;5;28;43minput\u001b[39;49m\u001b[43m(\u001b[49m\u001b[38;5;124;43m\"\u001b[39;49m\u001b[38;5;124;43mEnter your weight in lbs: \u001b[39;49m\u001b[38;5;124;43m\"\u001b[39;49m\u001b[43m)\u001b[49m\u001b[43m)\u001b[49m\n\u001b[0;32m     17\u001b[0m userHeight \u001b[38;5;241m=\u001b[39m \u001b[38;5;28mfloat\u001b[39m(\u001b[38;5;28minput\u001b[39m(\u001b[38;5;124m\"\u001b[39m\u001b[38;5;124mEnter your height in inches: \u001b[39m\u001b[38;5;124m\"\u001b[39m))\n\u001b[0;32m     19\u001b[0m \u001b[38;5;28mprint\u001b[39m(\u001b[38;5;124m\"\u001b[39m\u001b[38;5;124mYour weight is: \u001b[39m\u001b[38;5;124m\"\u001b[39m \u001b[38;5;241m+\u001b[39m \u001b[38;5;28mstr\u001b[39m(userWeight) \u001b[38;5;241m+\u001b[39m \u001b[38;5;124m\"\u001b[39m\u001b[38;5;124m lbs\u001b[39m\u001b[38;5;124m\"\u001b[39m)\n",
      "\u001b[1;31mValueError\u001b[0m: could not convert string to float: ''"
     ]
    }
   ],
   "source": [
    "\n",
    "# Calculate BMI\n",
    "def calculateBMI(userWeight, userHeight):\n",
    "\n",
    "    BMI = (userWeight * 703) / (userHeight ** 2)\n",
    "\n",
    "    print(\"Your BMI is: \" + str(round(BMI, 2)))\n",
    "\n",
    "    if BMI < 18.5:\n",
    "        print(\"You are underweight.\")\n",
    "    elif 18.5 <= BMI < 24.9:\n",
    "        print(\"You are normal weight.\")\n",
    "    else:\n",
    "        print(\"You are overweight.\")\n",
    "\n",
    "# Get user weight and height\n",
    "userWeight = float(input(\"Enter your weight in lbs: \"))\n",
    "userHeight = float(input(\"Enter your height in inches: \"))\n",
    "\n",
    "print(\"Your weight is: \" + str(userWeight) + \" lbs\")\n",
    "print(\"Your height is: \" + str(userHeight) + \" inches\")\n",
    "\n",
    "calculateBMI(userWeight, userHeight)\n",
    "\n",
    "\n",
    "    "
   ]
  },
  {
   "cell_type": "markdown",
   "id": "d65166b3",
   "metadata": {},
   "source": [
    "## Part 2\n",
    "\n",
    "Write a program that uses a loop to compute and print the sum of all even numbers between 2 and 100 (inclusive)."
   ]
  },
  {
   "cell_type": "code",
   "execution_count": null,
   "id": "edd6e6b2",
   "metadata": {},
   "outputs": [],
   "source": [
    "def sumEvenNumbers():\n",
    "    sum = 0\n",
    "    # for all even numbers from 1 to 100\n",
    "    for i in range (2, 101, 2):\n",
    "        sum += i\n",
    "        print(f\"sum is: {sum}\")\n",
    "    print(\"The sum of even numbers from 1 to 100 is: \" + str(sum))\n",
    "    \n",
    "sumEvenNumbers()"
   ]
  },
  {
   "cell_type": "markdown",
   "id": "f3d6e940",
   "metadata": {},
   "source": [
    "## Part 3\n",
    "\n",
    "Write a program that uses a loop to compute and print the sum of all odd numbers between a and b (inclusive), where a and b are entered by the user."
   ]
  },
  {
   "cell_type": "code",
   "execution_count": null,
   "id": "f75fb443",
   "metadata": {},
   "outputs": [
    {
     "name": "stdout",
     "output_type": "stream",
     "text": [
      "sum is: -99\n",
      "sum is: -196\n",
      "sum is: -291\n",
      "sum is: -384\n",
      "sum is: -475\n",
      "sum is: -564\n",
      "sum is: -651\n",
      "sum is: -736\n",
      "sum is: -819\n",
      "sum is: -900\n",
      "sum is: -979\n",
      "sum is: -1056\n",
      "sum is: -1131\n",
      "sum is: -1204\n",
      "sum is: -1275\n",
      "sum is: -1344\n",
      "sum is: -1411\n",
      "sum is: -1476\n",
      "sum is: -1539\n",
      "sum is: -1600\n",
      "sum is: -1659\n",
      "sum is: -1716\n",
      "sum is: -1771\n",
      "sum is: -1824\n",
      "sum is: -1875\n",
      "sum is: -1924\n",
      "sum is: -1971\n",
      "sum is: -2016\n",
      "sum is: -2059\n",
      "sum is: -2100\n",
      "sum is: -2139\n",
      "sum is: -2176\n",
      "sum is: -2211\n",
      "sum is: -2244\n",
      "sum is: -2275\n",
      "sum is: -2304\n",
      "sum is: -2331\n",
      "sum is: -2356\n",
      "sum is: -2379\n",
      "sum is: -2400\n",
      "sum is: -2419\n",
      "sum is: -2436\n",
      "sum is: -2451\n",
      "sum is: -2464\n",
      "sum is: -2475\n",
      "sum is: -2484\n",
      "sum is: -2491\n",
      "sum is: -2496\n",
      "sum is: -2499\n",
      "sum is: -2500\n",
      "sum is: -2499\n",
      "sum is: -2496\n",
      "sum is: -2491\n",
      "sum is: -2484\n",
      "sum is: -2475\n",
      "sum is: -2464\n",
      "sum is: -2451\n",
      "sum is: -2436\n",
      "sum is: -2419\n",
      "sum is: -2400\n",
      "sum is: -2379\n",
      "sum is: -2356\n",
      "sum is: -2331\n",
      "sum is: -2304\n",
      "sum is: -2275\n",
      "sum is: -2244\n",
      "sum is: -2211\n",
      "sum is: -2176\n",
      "sum is: -2139\n",
      "sum is: -2100\n",
      "sum is: -2059\n",
      "sum is: -2016\n",
      "sum is: -1971\n",
      "sum is: -1924\n",
      "sum is: -1875\n",
      "The sum of odd numbers from -100 to 50 is: -1875\n"
     ]
    }
   ],
   "source": [
    "def sumOddNumbers():\n",
    "    a = int(input(\"Enter a number: \"))\n",
    "    b = int(input(\"Enter a number: \"))\n",
    "    sum = 0\n",
    "\n",
    "    # check which number is smaller\n",
    "    if a < b:\n",
    "        for i in range (a, b + 1):\n",
    "            if i % 2 != 0:\n",
    "                sum += i\n",
    "                print(f\"sum is: {sum}\")\n",
    "        print(\"The sum of odd numbers from \" + str(a) + \" to \" + str(b) + \" is: \" + str(sum))\n",
    "\n",
    "    else:\n",
    "        for i in range (b, a + 1):\n",
    "            if i % 2 != 0:\n",
    "                sum += i\n",
    "                print(f\"sum is: {sum}\")\n",
    "        print(\"The sum of odd numbers from \" + str(b) + \" to \" + str(a) + \" is: \" + str(sum))\n",
    "        \n",
    "sumOddNumbers()"
   ]
  },
  {
   "cell_type": "code",
   "execution_count": null,
   "id": "9f9ac090",
   "metadata": {},
   "outputs": [],
   "source": []
  }
 ],
 "metadata": {
  "kernelspec": {
   "display_name": "base",
   "language": "python",
   "name": "python3"
  },
  "language_info": {
   "codemirror_mode": {
    "name": "ipython",
    "version": 3
   },
   "file_extension": ".py",
   "mimetype": "text/x-python",
   "name": "python",
   "nbconvert_exporter": "python",
   "pygments_lexer": "ipython3",
   "version": "3.12.4"
  }
 },
 "nbformat": 4,
 "nbformat_minor": 5
}
